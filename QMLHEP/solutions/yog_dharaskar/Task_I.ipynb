{
 "cells": [
  {
   "cell_type": "code",
   "execution_count": 1,
   "id": "dressed-stevens",
   "metadata": {},
   "outputs": [],
   "source": [
    "# Import Required Libraries\n",
    "import cirq\n",
    "import matplotlib.pyplot as plt\n",
    "import numpy as np"
   ]
  },
  {
   "cell_type": "markdown",
   "id": "metropolitan-family",
   "metadata": {},
   "source": [
    "# Part 1:"
   ]
  },
  {
   "cell_type": "code",
   "execution_count": 22,
   "id": "reliable-egyptian",
   "metadata": {},
   "outputs": [],
   "source": [
    "circuit = cirq.Circuit() # Get a new circuit."
   ]
  },
  {
   "cell_type": "code",
   "execution_count": 23,
   "id": "constitutional-mount",
   "metadata": {},
   "outputs": [],
   "source": [
    "qubit_list = [cirq.NamedQubit('q'+str(x)) for x in range(5)] # Define 5 qubits and store in a list."
   ]
  },
  {
   "cell_type": "code",
   "execution_count": 24,
   "id": "recorded-spending",
   "metadata": {},
   "outputs": [],
   "source": [
    "operation_set0 = [cirq.H(qubit) for qubit in qubit_list] # Apply Hadamard operation on every qubit."
   ]
  },
  {
   "cell_type": "code",
   "execution_count": 25,
   "id": "virtual-harris",
   "metadata": {},
   "outputs": [],
   "source": [
    "circuit.append(operation_set0) # Append the operations to the circuit."
   ]
  },
  {
   "cell_type": "code",
   "execution_count": 28,
   "id": "contemporary-baseline",
   "metadata": {},
   "outputs": [],
   "source": [
    "operation_set1 = [cirq.CNOT(qubit_list[x], qubit_list[x+1]) for x in range(len(qubit_list)-1)] # Apply CNOT operation on (0, 1), (1,2), (2,3), (3,4)."
   ]
  },
  {
   "cell_type": "code",
   "execution_count": 29,
   "id": "opened-jacksonville",
   "metadata": {},
   "outputs": [],
   "source": [
    "circuit.append(operation_set1) # Append the operations to the circuit."
   ]
  },
  {
   "cell_type": "code",
   "execution_count": 31,
   "id": "sharing-niagara",
   "metadata": {},
   "outputs": [],
   "source": [
    "circuit.append(cirq.SWAP(qubit_list[0], qubit_list[4])) # SWAP (0, 4) and append to the circuit."
   ]
  },
  {
   "cell_type": "code",
   "execution_count": 33,
   "id": "derived-adapter",
   "metadata": {},
   "outputs": [],
   "source": [
    "circuit.append(cirq.rx(np.pi/2.0)(qubit_list[2])) # Rotate X with pi/2 on qubit 'q2' and append to the circuit."
   ]
  },
  {
   "cell_type": "code",
   "execution_count": 34,
   "id": "deluxe-register",
   "metadata": {},
   "outputs": [
    {
     "name": "stdout",
     "output_type": "stream",
     "text": [
      "q0: ───H───@──────────────────────×───\n",
      "           │                      │\n",
      "q1: ───H───X───@──────────────────┼───\n",
      "               │                  │\n",
      "q2: ───H───────X───@───Rx(0.5π)───┼───\n",
      "                   │              │\n",
      "q3: ───H───────────X───@──────────┼───\n",
      "                       │          │\n",
      "q4: ───H───────────────X──────────×───\n"
     ]
    }
   ],
   "source": [
    "print(circuit) # Plot the circuit."
   ]
  },
  {
   "cell_type": "markdown",
   "id": "assumed-original",
   "metadata": {},
   "source": [
    "# Part 2:"
   ]
  },
  {
   "cell_type": "code",
   "execution_count": 2,
   "id": "technical-vintage",
   "metadata": {},
   "outputs": [],
   "source": [
    "q0 = cirq.NamedQubit('q0') # Define a qubit"
   ]
  },
  {
   "cell_type": "code",
   "execution_count": 10,
   "id": "collectible-delta",
   "metadata": {},
   "outputs": [],
   "source": [
    "circuit = cirq.Circuit() # Get a new circuit.\n",
    "simulator = cirq.Simulator() # Create a new instance of Simulator"
   ]
  },
  {
   "cell_type": "code",
   "execution_count": 11,
   "id": "subject-forwarding",
   "metadata": {},
   "outputs": [],
   "source": [
    "for _ in range(200):\n",
    "    circuit.append(cirq.rx(np.pi/50)(q0)) # Append 200 small rotate operations on qubit 'q0' to the circuit\n",
    "#print(circuit)"
   ]
  },
  {
   "cell_type": "code",
   "execution_count": 12,
   "id": "empty-profit",
   "metadata": {},
   "outputs": [],
   "source": [
    "prob_list = [] # Create an empty list to store probabilities.\n",
    "# Simulate the circuit and append the probabilities of ground state to the list.\n",
    "for step in simulator.simulate_moment_steps(circuit):\n",
    "    probability = np.abs(step.state_vector()) ** 2\n",
    "    prob_list.append(probability[0])"
   ]
  },
  {
   "cell_type": "code",
   "execution_count": 13,
   "id": "governmental-professional",
   "metadata": {},
   "outputs": [
    {
     "data": {
      "text/plain": [
       "Text(0, 0.5, 'Probability of ground state')"
      ]
     },
     "execution_count": 13,
     "metadata": {},
     "output_type": "execute_result"
    },
    {
     "data": {
      "image/png": "[encoded data removed]",
      "text/plain": [
       "<Figure size 432x288 with 1 Axes>"
      ]
     },
     "metadata": {
      "needs_background": "light"
     },
     "output_type": "display_data"
    }
   ],
   "source": [
    "# Plot the probabilities.\n",
    "plt.plot(prob_list, 'o')\n",
    "plt.xlabel(\"Step\")\n",
    "plt.ylabel(\"Probability of ground state\")"
   ]
  }
 ],
 "metadata": {
  "kernelspec": {
   "display_name": "Python 3",
   "language": "python",
   "name": "python3"
  },
  "language_info": {
   "codemirror_mode": {
    "name": "ipython",
    "version": 3
   },
   "file_extension": ".py",
   "mimetype": "text/x-python",
   "name": "python",
   "nbconvert_exporter": "python",
   "pygments_lexer": "ipython3",
   "version": "3.8.5"
  }
 },
 "nbformat": 4,
 "nbformat_minor": 5
}
