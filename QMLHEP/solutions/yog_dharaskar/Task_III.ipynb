{
 "cells": [
  {
   "cell_type": "code",
   "execution_count": 1,
   "id": "rapid-acrobat",
   "metadata": {},
   "outputs": [],
   "source": [
    "import tensorflow as tf\n",
    "import tensorflow_quantum as tfq\n",
    "\n",
    "import cirq\n",
    "import sympy\n",
    "import numpy as np\n",
    "\n",
    "%matplotlib inline\n",
    "import matplotlib.pyplot as plt\n",
    "from cirq.contrib.svg import SVGCircuit"
   ]
  },
  {
   "cell_type": "code",
   "execution_count": 2,
   "id": "worldwide-pharmaceutical",
   "metadata": {},
   "outputs": [],
   "source": [
    "# Load the data.\n",
    "with np.load(\"ML4SCI_GSoC/QMLHEP/qcnn/electron-photon.npz\") as data:\n",
    "    train_examples = data['x_train'].reshape(-1, 32, 32, 1)\n",
    "    train_labels = data['y_train']\n",
    "    test_examples = data['x_test'].reshape(-1, 32, 32, 1)\n",
    "    test_labels = data['y_test']"
   ]
  },
  {
   "cell_type": "code",
   "execution_count": 3,
   "id": "nasty-doubt",
   "metadata": {},
   "outputs": [
    {
     "name": "stdout",
     "output_type": "stream",
     "text": [
      "(100, 4, 4, 1)\n",
      "(100, 4, 4, 1)\n"
     ]
    }
   ],
   "source": [
    "# Crop the image to make the calculations more feasible.\n",
    "x_train_crop = train_examples[:, 15:19, 14:18, :]\n",
    "x_test_crop = test_examples[:, 15:19, 14:18, :]\n",
    "print(x_train_crop.shape)\n",
    "print(x_test_crop.shape)"
   ]
  },
  {
   "cell_type": "code",
   "execution_count": 4,
   "id": "hired-rough",
   "metadata": {},
   "outputs": [],
   "source": [
    "# Encode the values in a circuit by rotating the qubits by pixel values\n",
    "def convert_to_circuit(image):\n",
    "    values = np.ndarray.flatten(image)\n",
    "    qubits = cirq.GridQubit.rect(4, 4)\n",
    "    circuit = cirq.Circuit()\n",
    "    for i, value in enumerate(values):\n",
    "        if value:\n",
    "            circuit.append(cirq.X(qubits[i]))\n",
    "    return circuit\n",
    "\n",
    "\n",
    "x_train_circ = [convert_to_circuit(x) for x in x_train_crop]\n",
    "x_test_circ = [convert_to_circuit(x) for x in x_test_crop]"
   ]
  },
  {
   "cell_type": "code",
   "execution_count": 5,
   "id": "rational-hopkins",
   "metadata": {},
   "outputs": [],
   "source": [
    "# Convert the circuits to tensors for use with TensorFlow Quantum\n",
    "x_train_tfcirc = tfq.convert_to_tensor(x_train_circ)\n",
    "x_test_tfcirc = tfq.convert_to_tensor(x_test_circ)"
   ]
  },
  {
   "cell_type": "code",
   "execution_count": 6,
   "id": "radio-kingdom",
   "metadata": {},
   "outputs": [],
   "source": [
    "# Create a cluster state circuit.\n",
    "def cluster_state_circuit(bits):\n",
    "    \"\"\"Return a cluster state on the qubits in `bits`.\"\"\"\n",
    "    circuit = cirq.Circuit()\n",
    "    circuit.append(cirq.H.on_each(bits))\n",
    "    for this_bit, next_bit in zip(bits, bits[1:] + [bits[0]]):\n",
    "        circuit.append(cirq.CZ(this_bit, next_bit))\n",
    "    return circuit"
   ]
  },
  {
   "cell_type": "code",
   "execution_count": 8,
   "id": "fifty-skill",
   "metadata": {},
   "outputs": [],
   "source": [
    "# Convolution operation can be achived using parameterised unitaries or random parameterised circuits.\n",
    "def one_qubit_unitary(bit, symbols):\n",
    "    return cirq.Circuit(\n",
    "        cirq.X(bit)**symbols[0],\n",
    "        cirq.Y(bit)**symbols[1],\n",
    "        cirq.Z(bit)**symbols[2])\n",
    "\n",
    "\n",
    "def two_qubit_unitary(bits, symbols):\n",
    "    circuit = cirq.Circuit()\n",
    "    circuit += one_qubit_unitary(bits[0], symbols[0:3])\n",
    "    circuit += one_qubit_unitary(bits[1], symbols[3:6])\n",
    "    circuit += [cirq.ZZ(*bits)**symbols[6]]\n",
    "    circuit += [cirq.YY(*bits)**symbols[7]]\n",
    "    circuit += [cirq.XX(*bits)**symbols[8]]\n",
    "    circuit += one_qubit_unitary(bits[0], symbols[9:12])\n",
    "    circuit += one_qubit_unitary(bits[1], symbols[12:])\n",
    "    return circuit\n",
    "\n",
    "\n",
    "def two_qubit_pool(source_qubit, sink_qubit, symbols):\n",
    "    pool_circuit = cirq.Circuit()\n",
    "    sink_basis_selector = one_qubit_unitary(sink_qubit, symbols[0:3])\n",
    "    source_basis_selector = one_qubit_unitary(source_qubit, symbols[3:6])\n",
    "    pool_circuit.append(sink_basis_selector)\n",
    "    pool_circuit.append(source_basis_selector)\n",
    "    pool_circuit.append(cirq.CNOT(control=source_qubit, target=sink_qubit))\n",
    "    pool_circuit.append(sink_basis_selector**-1)\n",
    "    return pool_circuit"
   ]
  },
  {
   "cell_type": "code",
   "execution_count": 9,
   "id": "charitable-offer",
   "metadata": {},
   "outputs": [],
   "source": [
    "# Create a circuit for performing a convolution operation.\n",
    "def quantum_conv_circuit(bits, symbols):\n",
    "    circuit = cirq.Circuit()\n",
    "    for first, second in zip(bits[0::2], bits[1::2]):\n",
    "        circuit += two_qubit_unitary([first, second], symbols)\n",
    "    for first, second in zip(bits[1::2], bits[2::2] + [bits[0]]):\n",
    "        circuit += two_qubit_unitary([first, second], symbols)\n",
    "    return circuit"
   ]
  },
  {
   "cell_type": "code",
   "execution_count": 10,
   "id": "diagnostic-probe",
   "metadata": {},
   "outputs": [],
   "source": [
    "# Create a circuit for peforming a pooling operation.\n",
    "def quantum_pool_circuit(source_bits, sink_bits, symbols):\n",
    "    circuit = cirq.Circuit()\n",
    "    for source, sink in zip(source_bits, sink_bits):\n",
    "        circuit += two_qubit_pool(source, sink, symbols)\n",
    "    return circuit"
   ]
  },
  {
   "cell_type": "code",
   "execution_count": 11,
   "id": "super-bundle",
   "metadata": {},
   "outputs": [
    {
     "name": "stdout",
     "output_type": "stream",
     "text": [
      "('Failed to import pydot. You must `pip install pydot` and install graphviz (https://graphviz.gitlab.io/download/), ', 'for `pydotprint` to work.')\n"
     ]
    }
   ],
   "source": [
    "# Create a circuit using the above circuits. To achieve 3 sets of convolutions and pooling operations.\n",
    "def create_model_circuit(qubits):\n",
    "    model_circuit = cirq.Circuit()\n",
    "    symbols = sympy.symbols('qconv0:63')\n",
    "    \n",
    "    \n",
    "    model_circuit += quantum_conv_circuit(qubits, symbols[0:15])\n",
    "    model_circuit += quantum_pool_circuit(qubits[:4], qubits[4:],\n",
    "                                          symbols[15:21])\n",
    "    model_circuit += quantum_conv_circuit(qubits[4:], symbols[21:36])\n",
    "    model_circuit += quantum_pool_circuit(qubits[4:6], qubits[6:],\n",
    "                                          symbols[36:42])\n",
    "    model_circuit += quantum_conv_circuit(qubits[6:], symbols[42:57])\n",
    "    model_circuit += quantum_pool_circuit([qubits[6]], [qubits[7]],\n",
    "                                          symbols[57:63])\n",
    "    return model_circuit\n",
    "\n",
    "\n",
    "cluster_state_bits = cirq.GridQubit.rect(4, 4)\n",
    "readout_operators = cirq.Z(cluster_state_bits[-1])\n",
    "\n",
    "# Convert the model circuit to a Keras model so that it can be trained.\n",
    "excitation_input = tf.keras.Input(\n",
    "                                  shape=(),\n",
    "                                  dtype=tf.dtypes.string\n",
    "                                  )\n",
    "cluster_state = tfq.layers.AddCircuit()(\n",
    "                                        excitation_input, \n",
    "                                        prepend=cluster_state_circuit(cluster_state_bits)\n",
    "                                        )\n",
    "\n",
    "quantum_model = tfq.layers.PQC(create_model_circuit(cluster_state_bits), readout_operators)(cluster_state)\n",
    "\n",
    "qcnn_model = tf.keras.Model(inputs=[excitation_input], outputs=[quantum_model])\n"
   ]
  },
  {
   "cell_type": "code",
   "execution_count": 12,
   "id": "latin-helping",
   "metadata": {},
   "outputs": [
    {
     "name": "stdout",
     "output_type": "stream",
     "text": [
      "Epoch 1/25\n",
      "7/7 [==============================] - 3s 476ms/step - loss: 2.7855 - accuracy: 0.4400 - val_loss: 1.3676 - val_accuracy: 0.5400\n",
      "Epoch 2/25\n",
      "7/7 [==============================] - 3s 452ms/step - loss: 1.6641 - accuracy: 0.4400 - val_loss: 1.1344 - val_accuracy: 0.5400\n",
      "Epoch 3/25\n",
      "7/7 [==============================] - 3s 462ms/step - loss: 1.3086 - accuracy: 0.4400 - val_loss: 1.3065 - val_accuracy: 0.5400\n",
      "Epoch 4/25\n",
      "7/7 [==============================] - 3s 470ms/step - loss: 1.6251 - accuracy: 0.4400 - val_loss: 1.3198 - val_accuracy: 0.5400\n",
      "Epoch 5/25\n",
      "7/7 [==============================] - 3s 450ms/step - loss: 1.5702 - accuracy: 0.4400 - val_loss: 0.9831 - val_accuracy: 0.5400\n",
      "Epoch 6/25\n",
      "7/7 [==============================] - 3s 451ms/step - loss: 1.5096 - accuracy: 0.4400 - val_loss: 1.2661 - val_accuracy: 0.5400\n",
      "Epoch 7/25\n",
      "7/7 [==============================] - 3s 471ms/step - loss: 1.4670 - accuracy: 0.4400 - val_loss: 1.1251 - val_accuracy: 0.5400\n",
      "Epoch 8/25\n",
      "7/7 [==============================] - 3s 467ms/step - loss: 1.3050 - accuracy: 0.4400 - val_loss: 1.0084 - val_accuracy: 0.5400\n",
      "Epoch 9/25\n",
      "7/7 [==============================] - 3s 464ms/step - loss: 1.1559 - accuracy: 0.4400 - val_loss: 0.9045 - val_accuracy: 0.5400\n",
      "Epoch 10/25\n",
      "7/7 [==============================] - 3s 472ms/step - loss: 1.0173 - accuracy: 0.4400 - val_loss: 0.8142 - val_accuracy: 0.5400\n",
      "Epoch 11/25\n",
      "7/7 [==============================] - 3s 470ms/step - loss: 0.9173 - accuracy: 0.4400 - val_loss: 0.7591 - val_accuracy: 0.5400\n",
      "Epoch 12/25\n",
      "7/7 [==============================] - 3s 475ms/step - loss: 0.8433 - accuracy: 0.4400 - val_loss: 0.7205 - val_accuracy: 0.5400\n",
      "Epoch 13/25\n",
      "7/7 [==============================] - 3s 465ms/step - loss: 0.7915 - accuracy: 0.4400 - val_loss: 0.7049 - val_accuracy: 0.5400\n",
      "Epoch 14/25\n",
      "7/7 [==============================] - 3s 462ms/step - loss: 0.7603 - accuracy: 0.4400 - val_loss: 0.6984 - val_accuracy: 0.5400\n",
      "Epoch 15/25\n",
      "7/7 [==============================] - 3s 459ms/step - loss: 0.7406 - accuracy: 0.4700 - val_loss: 0.6962 - val_accuracy: 0.4100\n",
      "Epoch 16/25\n",
      "7/7 [==============================] - 3s 461ms/step - loss: 0.7293 - accuracy: 0.4600 - val_loss: 0.6960 - val_accuracy: 0.4500\n",
      "Epoch 17/25\n",
      "7/7 [==============================] - 3s 454ms/step - loss: 0.7260 - accuracy: 0.4700 - val_loss: 0.7076 - val_accuracy: 0.4500\n",
      "Epoch 18/25\n",
      "7/7 [==============================] - 3s 461ms/step - loss: 0.7205 - accuracy: 0.4700 - val_loss: 0.7092 - val_accuracy: 0.4500\n",
      "Epoch 19/25\n",
      "7/7 [==============================] - 3s 466ms/step - loss: 0.7184 - accuracy: 0.4700 - val_loss: 0.7042 - val_accuracy: 0.4500\n",
      "Epoch 20/25\n",
      "7/7 [==============================] - 3s 456ms/step - loss: 0.7146 - accuracy: 0.4700 - val_loss: 0.6955 - val_accuracy: 0.4500\n",
      "Epoch 21/25\n",
      "7/7 [==============================] - 3s 456ms/step - loss: 0.7130 - accuracy: 0.4700 - val_loss: 0.6996 - val_accuracy: 0.4500\n",
      "Epoch 22/25\n",
      "7/7 [==============================] - 3s 445ms/step - loss: 0.7178 - accuracy: 0.4700 - val_loss: 0.6862 - val_accuracy: 0.4500\n",
      "Epoch 23/25\n",
      "7/7 [==============================] - 3s 449ms/step - loss: 0.7076 - accuracy: 0.4700 - val_loss: 0.7055 - val_accuracy: 0.4500\n",
      "Epoch 24/25\n",
      "7/7 [==============================] - 3s 454ms/step - loss: 0.7098 - accuracy: 0.4900 - val_loss: 0.7066 - val_accuracy: 0.4900\n",
      "Epoch 25/25\n",
      "7/7 [==============================] - 3s 448ms/step - loss: 0.7058 - accuracy: 0.5100 - val_loss: 0.6903 - val_accuracy: 0.4900\n"
     ]
    }
   ],
   "source": [
    "# Compile the model for binary classification.\n",
    "qcnn_model.compile(optimizer=tf.keras.optimizers.Adam(lr=0.02),\n",
    "                   loss=tf.losses.binary_crossentropy,\n",
    "                   metrics='accuracy')\n",
    "\n",
    "history = qcnn_model.fit(x=x_train_tfcirc, y=train_labels, batch_size=16, epochs=25, validation_data=(x_train_tfcirc, test_labels))"
   ]
  },
  {
   "cell_type": "code",
   "execution_count": 13,
   "id": "floral-poster",
   "metadata": {},
   "outputs": [],
   "source": [
    "# Create a smaller circuit for hybrid model.\n",
    "readouts = [cirq.Z(bit) for bit in cluster_state_bits[4:]]\n",
    "def multi_readout_model_circuit(qubits):\n",
    "    model_circuit = cirq.Circuit()\n",
    "    symbols = sympy.symbols('qconv0:21')\n",
    "    model_circuit += quantum_conv_circuit(qubits, symbols[0:15])\n",
    "    model_circuit += quantum_pool_circuit(qubits[:4], qubits[4:],\n",
    "                                          symbols[15:21])\n",
    "    return model_circuit"
   ]
  },
  {
   "cell_type": "code",
   "execution_count": 14,
   "id": "smoking-sword",
   "metadata": {},
   "outputs": [],
   "source": [
    "# Use the above circuit to create a Keras model with multiple convolution and pooling layers.\n",
    "excitation_input_multi = tf.keras.Input(shape=(), dtype=tf.dtypes.string)\n",
    "\n",
    "cluster_state_multi = tfq.layers.AddCircuit()(\n",
    "    excitation_input_multi, prepend=cluster_state_circuit(cluster_state_bits))\n",
    "\n",
    "quantum_model_multi1 = tfq.layers.PQC(\n",
    "    multi_readout_model_circuit(cluster_state_bits),\n",
    "    readouts)(cluster_state_multi)\n",
    "\n",
    "quantum_model_multi2 = tfq.layers.PQC(\n",
    "    multi_readout_model_circuit(cluster_state_bits),\n",
    "    readouts)(cluster_state_multi)\n",
    "\n",
    "quantum_model_multi3 = tfq.layers.PQC(\n",
    "    multi_readout_model_circuit(cluster_state_bits),\n",
    "    readouts)(cluster_state_multi)\n",
    "\n",
    "# Concatenate the outputs and feed into a small classical dense network\n",
    "concat_out = tf.keras.layers.concatenate(\n",
    "    [quantum_model_multi1, quantum_model_multi2, quantum_model_multi3])\n",
    "\n",
    "dense_1 = tf.keras.layers.Dense(8)(concat_out)\n",
    "\n",
    "dense_2 = tf.keras.layers.Dense(1)(dense_1)\n",
    "\n",
    "multi_qconv_model = tf.keras.Model(inputs=[excitation_input_multi],\n",
    "                                   outputs=[dense_2])"
   ]
  },
  {
   "cell_type": "code",
   "execution_count": 15,
   "id": "fundamental-lodge",
   "metadata": {},
   "outputs": [
    {
     "name": "stdout",
     "output_type": "stream",
     "text": [
      "Epoch 1/25\n",
      "7/7 [==============================] - 2s 352ms/step - loss: 1.2440 - accuracy: 0.5000 - val_loss: 0.7048 - val_accuracy: 0.5400\n",
      "Epoch 2/25\n",
      "7/7 [==============================] - 2s 315ms/step - loss: 0.7420 - accuracy: 0.4700 - val_loss: 0.7243 - val_accuracy: 0.4400\n",
      "Epoch 3/25\n",
      "7/7 [==============================] - 2s 310ms/step - loss: 0.6930 - accuracy: 0.5000 - val_loss: 0.7251 - val_accuracy: 0.4600\n",
      "Epoch 4/25\n",
      "7/7 [==============================] - 2s 312ms/step - loss: 0.6926 - accuracy: 0.5600 - val_loss: 0.6952 - val_accuracy: 0.4400\n",
      "Epoch 5/25\n",
      "7/7 [==============================] - 2s 302ms/step - loss: 0.7292 - accuracy: 0.5000 - val_loss: 0.6970 - val_accuracy: 0.4400\n",
      "Epoch 6/25\n",
      "7/7 [==============================] - 2s 298ms/step - loss: 0.6830 - accuracy: 0.5600 - val_loss: 0.7602 - val_accuracy: 0.4600\n",
      "Epoch 7/25\n",
      "7/7 [==============================] - 2s 318ms/step - loss: 0.6917 - accuracy: 0.5600 - val_loss: 0.7150 - val_accuracy: 0.4600\n",
      "Epoch 8/25\n",
      "7/7 [==============================] - 2s 307ms/step - loss: 0.6791 - accuracy: 0.5500 - val_loss: 0.7115 - val_accuracy: 0.4400\n",
      "Epoch 9/25\n",
      "7/7 [==============================] - 2s 321ms/step - loss: 0.6806 - accuracy: 0.5100 - val_loss: 0.7127 - val_accuracy: 0.4800\n",
      "Epoch 10/25\n",
      "7/7 [==============================] - 2s 311ms/step - loss: 0.6738 - accuracy: 0.5600 - val_loss: 0.7171 - val_accuracy: 0.4700\n",
      "Epoch 11/25\n",
      "7/7 [==============================] - 2s 334ms/step - loss: 0.6652 - accuracy: 0.5800 - val_loss: 0.7214 - val_accuracy: 0.4700\n",
      "Epoch 12/25\n",
      "7/7 [==============================] - 2s 308ms/step - loss: 0.6735 - accuracy: 0.5900 - val_loss: 0.8681 - val_accuracy: 0.4700\n",
      "Epoch 13/25\n",
      "7/7 [==============================] - 2s 342ms/step - loss: 0.6532 - accuracy: 0.5600 - val_loss: 0.7408 - val_accuracy: 0.4200\n",
      "Epoch 14/25\n",
      "7/7 [==============================] - 2s 302ms/step - loss: 0.6579 - accuracy: 0.4900 - val_loss: 0.9842 - val_accuracy: 0.4800\n",
      "Epoch 15/25\n",
      "7/7 [==============================] - 2s 308ms/step - loss: 0.6539 - accuracy: 0.5800 - val_loss: 0.9877 - val_accuracy: 0.4600\n",
      "Epoch 16/25\n",
      "7/7 [==============================] - 2s 323ms/step - loss: 0.6491 - accuracy: 0.5900 - val_loss: 0.9879 - val_accuracy: 0.4700\n",
      "Epoch 17/25\n",
      "7/7 [==============================] - 2s 323ms/step - loss: 0.6556 - accuracy: 0.5100 - val_loss: 0.9803 - val_accuracy: 0.4700\n",
      "Epoch 18/25\n",
      "7/7 [==============================] - 2s 338ms/step - loss: 0.6441 - accuracy: 0.5800 - val_loss: 0.9938 - val_accuracy: 0.4700\n",
      "Epoch 19/25\n",
      "7/7 [==============================] - 2s 312ms/step - loss: 0.6359 - accuracy: 0.5800 - val_loss: 1.0040 - val_accuracy: 0.4300\n",
      "Epoch 20/25\n",
      "7/7 [==============================] - 2s 307ms/step - loss: 0.6653 - accuracy: 0.5100 - val_loss: 0.9828 - val_accuracy: 0.4400\n",
      "Epoch 21/25\n",
      "7/7 [==============================] - 2s 314ms/step - loss: 0.6397 - accuracy: 0.5600 - val_loss: 1.1381 - val_accuracy: 0.4800\n",
      "Epoch 22/25\n",
      "7/7 [==============================] - 2s 325ms/step - loss: 0.6712 - accuracy: 0.6000 - val_loss: 1.1184 - val_accuracy: 0.4300\n",
      "Epoch 23/25\n",
      "7/7 [==============================] - 2s 318ms/step - loss: 0.6404 - accuracy: 0.5600 - val_loss: 0.9751 - val_accuracy: 0.5500\n",
      "Epoch 24/25\n",
      "7/7 [==============================] - 2s 301ms/step - loss: 0.6486 - accuracy: 0.5800 - val_loss: 1.0064 - val_accuracy: 0.4700\n",
      "Epoch 25/25\n",
      "7/7 [==============================] - 2s 316ms/step - loss: 0.6786 - accuracy: 0.5800 - val_loss: 0.9769 - val_accuracy: 0.4300\n"
     ]
    }
   ],
   "source": [
    "# Compile and train the model.\n",
    "multi_qconv_model.compile(optimizer=tf.keras.optimizers.Adam(learning_rate=0.02),\n",
    "                     loss='binary_crossentropy',\n",
    "                     metrics=['accuracy'])\n",
    "\n",
    "hhistory = multi_qconv_model.fit(x=x_train_tfcirc, y=train_labels, batch_size=16, epochs=25, validation_data=(x_train_tfcirc, test_labels))"
   ]
  },
  {
   "cell_type": "code",
   "execution_count": 16,
   "id": "vanilla-sheffield",
   "metadata": {},
   "outputs": [
    {
     "data": {
      "image/png": "[encoded data removed]",
      "text/plain": [
       "<Figure size 432x288 with 1 Axes>"
      ]
     },
     "metadata": {
      "needs_background": "light"
     },
     "output_type": "display_data"
    }
   ],
   "source": [
    "# Plot the comparative accuracies of both models.\n",
    "plt.plot(history.history['val_accuracy'], label='QCNN')\n",
    "plt.plot(hhistory.history['val_accuracy'], label='Hybrid QCNN')\n",
    "plt.xlabel('Epochs')\n",
    "plt.legend()\n",
    "plt.ylabel('Validation Accuracy')\n",
    "plt.show()"
   ]
  },
  {
   "cell_type": "code",
   "execution_count": null,
   "id": "abandoned-fitness",
   "metadata": {},
   "outputs": [],
   "source": []
  }
 ],
 "metadata": {
  "kernelspec": {
   "display_name": "Python 3",
   "language": "python",
   "name": "python3"
  },
  "language_info": {
   "codemirror_mode": {
    "name": "ipython",
    "version": 3
   },
   "file_extension": ".py",
   "mimetype": "text/x-python",
   "name": "python",
   "nbconvert_exporter": "python",
   "pygments_lexer": "ipython3",
   "version": "3.8.5"
  }
 },
 "nbformat": 4,
 "nbformat_minor": 5
}
