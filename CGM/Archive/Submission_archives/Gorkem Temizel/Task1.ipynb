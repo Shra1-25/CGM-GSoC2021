{
 "cells": [
  {
   "cell_type": "markdown",
   "metadata": {},
   "source": [
    "# Task 1"
   ]
  },
  {
   "cell_type": "markdown",
   "metadata": {},
   "source": [
    "![Task 1 Image](task1_img.png)"
   ]
  },
  {
   "cell_type": "markdown",
   "metadata": {},
   "source": [
    "#### Task 1. A\n",
    "For features A-H, identify the atom responsible, and its ionic state. Assume there is no\n",
    "close grouping of lines from different elements.  \n",
    "\n",
    "---\n",
    "#### Answer\n",
    "| Feature Name | Atom     | Sp. Name | Ground Shells       | Ground Level      |\n",
    "| :---:        | :---:    | :---:    | :---:               | :---:             |\n",
    "| A            | Oxygen   | O II     |  $ 1s^2 2s^2 2p^3 $ | $ ^4S°_{3/2} $    |\n",
    "| B            | Carbon   | C II     |  $ 1s2^ 2s^2 2p $   | $ ^2P°_{1/2} $    |\n",
    "| C            | Hydrogen | H I      |  $ 1s  $            | $ ^2S_{1/2} $     |                   \n",
    "| D            | Oxygen   | O I      |  $ 1s^2 2s^2 2p^4 $ | $ ^3P_2 $         |\n",
    "| E            | Nitrogen | N II     |  $ 1s^2 2s^2 2p^2 $ | $ ^3P_0 $         |\n",
    "| F            | Hydrogen | H I      |  $ 1s $             | $ ^2S_{1/2} $     |\n",
    "| G            | Oxygen   | O I      |  $ 1s^2 2s^2 2p^4 $ | $ ^3P_2 $         |\n",
    "| H            | Carbon   | C I      |  $ 1s2^ 2s^2 2p^2 $ | $ ^3P_0 $         |"
   ]
  },
  {
   "cell_type": "markdown",
   "metadata": {},
   "source": [
    "#### Task 1. B\n",
    "How are the lines in feature C related? And what causes the plunge near 900\n",
    "Angstroms? You can explain in words, but reference an equation as well.\n",
    "\n",
    "----\n",
    "#### Answer\n",
    "In the previous subtask we have detected feature C as hydrogen. If we want to find wavelengths of Hydrogen we need to apply Rydberg formula to Lyman Series.  \n",
    "Rydberg Formula for hydrogen:  \n",
    "$$\n",
    "\\frac 1 {\\lambda}_{vac} = R_h ( \\frac 1 {n_1^2} - \\frac 1 {n_2^2} )\n",
    "$$\n",
    "\n",
    "$ {\\lambda}_{vac} $  is the wavelength of electromagnetic radiation emitted in vacuum.  \n",
    "$ R_h $ is the Rydberg constant for hydrogen, approximately $ 1.09677583×10^7  m^{-1} $.     \n",
    "$ n_1 $ is the principal quantum number of an energy level.      \n",
    "$ n_2 $ is the principal quantum number of an energy level for the atomic electron transition.  \n",
    "\n",
    "For using Lyman Series we need to set $ n_1 $ to 1 and because of $ n_1 < n_2 $ we can set $ n_2 = 2,3,4,5, ...... \\infty $ . As a result we get Rydberg formula for hydrogen: \n",
    "$$\n",
    "\\frac 1 {\\lambda}_{vac} = R_h (1  - \\frac 1 {n^2} )\n",
    "$$\n",
    "When n gets closer to the infinity, there will be infinitely spectral lines. And at $ n = \\infty $ wavelength will be 911.753 angstrom. Also known as Lyman limit and because of that limit there is a plunge at 911.753 angstrom.   \n",
    "Also we can say all lines in feature C are related because of all of them hydrogen."
   ]
  }
 ],
 "metadata": {
  "kernelspec": {
   "display_name": "Python 3",
   "language": "python",
   "name": "python3"
  },
  "language_info": {
   "codemirror_mode": {
    "name": "ipython",
    "version": 3
   },
   "file_extension": ".py",
   "mimetype": "text/x-python",
   "name": "python",
   "nbconvert_exporter": "python",
   "pygments_lexer": "ipython3",
   "version": "3.7.6"
  },
  "latex_envs": {
   "LaTeX_envs_menu_present": true,
   "autoclose": false,
   "autocomplete": true,
   "bibliofile": "biblio.bib",
   "cite_by": "apalike",
   "current_citInitial": 1,
   "eqLabelWithNumbers": true,
   "eqNumInitial": 1,
   "hotkeys": {
    "equation": "Ctrl-E",
    "itemize": "Ctrl-I"
   },
   "labels_anchors": false,
   "latex_user_defs": false,
   "report_style_numbering": false,
   "user_envs_cfg": false
  }
 },
 "nbformat": 4,
 "nbformat_minor": 4
}
