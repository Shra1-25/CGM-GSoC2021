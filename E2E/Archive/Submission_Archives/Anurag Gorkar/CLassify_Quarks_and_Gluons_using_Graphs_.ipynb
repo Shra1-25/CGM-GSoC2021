{
  "nbformat": 4,
  "nbformat_minor": 0,
  "metadata": {
    "colab": {
      "name": "CLassify Quarks and Gluons using Graphs .ipynb",
      "provenance": [],
      "collapsed_sections": []
    },
    "kernelspec": {
      "name": "python3",
      "display_name": "Python 3"
    },
    "language_info": {
      "name": "python"
    }
  },
  "cells": [
    {
      "cell_type": "code",
      "metadata": {
        "id": "HWbOix6qDz80"
      },
      "source": [
        "#Imports \n",
        "import energyflow\n",
        "import numpy as np\n",
        "from scipy import stats\n",
        "import matplotlib.pyplot as plt"
      ],
      "execution_count": null,
      "outputs": []
    },
    {
      "cell_type": "code",
      "metadata": {
        "id": "nkVCtQZqD2FK",
        "colab": {
          "base_uri": "https://localhost:8080/"
        },
        "outputId": "b7d1ca5d-51b3-4302-8ceb-4c3166fb22c9"
      },
      "source": [
        "# Load Quark and Gluon Data\n",
        "X, y = energyflow.qg_jets.load(num_data=100000, pad=True, ncol=4, generator='pythia',\n",
        "                        with_bc=False, cache_dir='~/.energyflow')"
      ],
      "execution_count": null,
      "outputs": [
        {
          "output_type": "stream",
          "text": [
            "Downloading QG_jets.npz from https://www.dropbox.com/s/fclsl7pukcpobsb/QG_jets.npz?dl=1 to /root/.energyflow/datasets\n"
          ],
          "name": "stdout"
        }
      ]
    },
    {
      "cell_type": "code",
      "metadata": {
        "colab": {
          "base_uri": "https://localhost:8080/"
        },
        "id": "ArlV7GW-EJDq",
        "outputId": "3bf5005e-3416-4c2f-a314-f752cdf299a9"
      },
      "source": [
        "# Dataset Dimensions\n",
        "print(f'X dimensions {X.shape}, X type {type(X)}')\n",
        "print(f'y dimensions {y.shape}')"
      ],
      "execution_count": null,
      "outputs": [
        {
          "output_type": "stream",
          "text": [
            "X dimensions (100000, 139, 4), X type <class 'numpy.ndarray'>\n",
            "y dimensions (100000,)\n"
          ],
          "name": "stdout"
        }
      ]
    },
    {
      "cell_type": "markdown",
      "metadata": {
        "id": "k99jkm9HQ4sc"
      },
      "source": [
        "Here the maximum multiplicity of jets produced by any particle is 139. M = 139."
      ]
    },
    {
      "cell_type": "code",
      "metadata": {
        "colab": {
          "base_uri": "https://localhost:8080/"
        },
        "id": "iiMu4zweHIqK",
        "outputId": "33c93837-1077-48bc-e965-f5b68c68e7a0"
      },
      "source": [
        "# Printing the number of Quark samples and Gloun samples\n",
        "print(np.unique(y, return_counts=True))"
      ],
      "execution_count": null,
      "outputs": [
        {
          "output_type": "stream",
          "text": [
            "(array([0., 1.]), array([50000, 50000]))\n"
          ],
          "name": "stdout"
        }
      ]
    },
    {
      "cell_type": "code",
      "metadata": {
        "id": "tuDNLLVb812U"
      },
      "source": [
        "# Getting value distribution of pt, rapidity, azimuthal angle and pdgid for quark samples\n",
        "\n",
        "# 2-D arrays to represent pt, rapidity, azimuthal angle and pdgid distributions for quark samples\n",
        "quark_pt = [ [ X[i][j][0] for j in range(139) ]  for i in range(100000) if y[i] == 1 ]\n",
        "quark_rapidity = [ [ X[i][j][1] for j in range(139) ]  for i in range(100000) if y[i] == 1 ]\n",
        "quark_azim = [ [ X[i][j][2] for j in range(139) ]  for i in range(100000) if y[i] == 1 ]\n",
        "quark_pdgid = [ [ X[i][j][3] for j in range(139) ]  for i in range(100000) if y[i] == 1 ]\n",
        "\n",
        "# 2-D arrays to represent pt, rapidity, azimuthal angle and pdgid distributions for gluon samples\n",
        "gluon_pt = [ [ X[i][j][0] for j in range(139) ]  for i in range(100000) if y[i] == 0 ]\n",
        "gluon_rapidity = [ [ X[i][j][1] for j in range(139) ]  for i in range(100000) if y[i] == 0 ]\n",
        "gluon_azim = [ [ X[i][j][2] for j in range(139) ]  for i in range(100000) if y[i] == 0 ]\n",
        "gluon_pdgid = [ [ X[i][j][3] for j in range(139) ]  for i in range(100000) if y[i] == 0 ]"
      ],
      "execution_count": null,
      "outputs": []
    },
    {
      "cell_type": "markdown",
      "metadata": {
        "id": "i0HR480IfNav"
      },
      "source": [
        "#Quark Distributions"
      ]
    },
    {
      "cell_type": "markdown",
      "metadata": {
        "id": "F320eTZFaKSp"
      },
      "source": [
        "##Quark pt values distribution"
      ]
    },
    {
      "cell_type": "code",
      "metadata": {
        "colab": {
          "base_uri": "https://localhost:8080/"
        },
        "id": "yQKBRJeMC6lw",
        "outputId": "8a50c8af-7dbd-4a51-9c51-55495d609f5b"
      },
      "source": [
        "# Check distribution for quark  pt values\n",
        "print(f\"Quark pt min array :  {stats.describe(quark_pt[:][:]).minmax[0]} \\n\")\n",
        "print(f\"Quark pt max array :  {stats.describe(quark_pt[:][:]).minmax[1]} \\n\")\n"
      ],
      "execution_count": null,
      "outputs": [
        {
          "output_type": "stream",
          "text": [
            "Quark pt min array :  [0.00114116 0.         0.         0.         0.         0.\n",
            " 0.         0.         0.         0.         0.         0.\n",
            " 0.         0.         0.         0.         0.         0.\n",
            " 0.         0.         0.         0.         0.         0.\n",
            " 0.         0.         0.         0.         0.         0.\n",
            " 0.         0.         0.         0.         0.         0.\n",
            " 0.         0.         0.         0.         0.         0.\n",
            " 0.         0.         0.         0.         0.         0.\n",
            " 0.         0.         0.         0.         0.         0.\n",
            " 0.         0.         0.         0.         0.         0.\n",
            " 0.         0.         0.         0.         0.         0.\n",
            " 0.         0.         0.         0.         0.         0.\n",
            " 0.         0.         0.         0.         0.         0.\n",
            " 0.         0.         0.         0.         0.         0.\n",
            " 0.         0.         0.         0.         0.         0.\n",
            " 0.         0.         0.         0.         0.         0.\n",
            " 0.         0.         0.         0.         0.         0.\n",
            " 0.         0.         0.         0.         0.         0.\n",
            " 0.         0.         0.         0.         0.         0.\n",
            " 0.         0.         0.         0.         0.         0.\n",
            " 0.         0.         0.         0.         0.         0.\n",
            " 0.         0.         0.         0.         0.         0.\n",
            " 0.         0.         0.         0.         0.         0.\n",
            " 0.        ] \n",
            "\n",
            "Quark pt max array :  [5.33554649e+02 3.18840070e+02 1.91557623e+02 5.30623009e+02\n",
            " 5.48493716e+02 5.25847521e+02 5.29039225e+02 4.82608447e+02\n",
            " 5.06609178e+02 5.01420635e+02 4.83626775e+02 4.97819542e+02\n",
            " 4.95899231e+02 4.85850140e+02 4.96244618e+02 4.68689160e+02\n",
            " 4.67826051e+02 4.74063325e+02 4.76259554e+02 4.76358780e+02\n",
            " 4.45277705e+02 4.62390984e+02 4.44114007e+02 4.53307261e+02\n",
            " 4.47893300e+02 4.38866545e+02 4.28217629e+02 4.26706737e+02\n",
            " 4.01995296e+02 4.29590570e+02 4.26916490e+02 3.92477503e+02\n",
            " 3.65049648e+02 3.88462193e+02 3.98240943e+02 3.86386909e+02\n",
            " 4.14114375e+02 3.58543153e+02 3.69103691e+02 3.79412437e+02\n",
            " 3.75309114e+02 3.69776470e+02 3.35081042e+02 3.44496129e+02\n",
            " 3.66388113e+02 2.87857033e+02 3.03752403e+02 3.19609569e+02\n",
            " 2.78860124e+02 3.01338205e+02 2.81839061e+02 2.75771105e+02\n",
            " 3.53912207e+02 2.38797320e+02 2.56987568e+02 2.81939844e+02\n",
            " 3.09289219e+02 2.32481776e+02 2.92671890e+02 2.18500461e+02\n",
            " 1.99722849e+02 2.48271996e+02 2.02024995e+02 2.34440474e+02\n",
            " 2.16905863e+02 2.01617896e+02 2.03469982e+02 2.48333295e+02\n",
            " 1.76868226e+02 1.61719311e+02 1.45886145e+02 1.79709106e+02\n",
            " 1.55880515e+02 2.29016352e+02 2.20228586e+02 1.81384669e+02\n",
            " 1.67258935e+02 2.15189513e+02 1.40073963e+02 1.11522587e+02\n",
            " 1.20219806e+02 1.18622972e+02 9.41377344e+01 1.07808507e+02\n",
            " 8.13470071e+01 9.78371243e+01 1.06243672e+02 1.40832127e+02\n",
            " 1.10873212e+02 1.00314800e+02 8.04272284e+01 7.45827264e+01\n",
            " 5.35561505e+01 8.45330231e+01 6.82797213e+01 7.48297172e+01\n",
            " 5.35319743e+01 9.07817066e+01 8.95529960e+01 6.32872071e+01\n",
            " 2.63992574e+01 5.87405670e+01 6.69185270e+01 2.46285628e+01\n",
            " 3.62637180e+01 9.71391983e+00 5.16485882e+01 2.30447688e+01\n",
            " 3.85402864e+01 2.85530873e+01 7.81826970e+00 2.11642174e+01\n",
            " 2.63272884e+01 2.59655736e+01 1.34809209e+01 1.63581985e+01\n",
            " 4.96333125e-01 9.43067316e+00 3.33498845e+01 8.94592757e+00\n",
            " 0.00000000e+00 0.00000000e+00 0.00000000e+00 0.00000000e+00\n",
            " 0.00000000e+00 0.00000000e+00 0.00000000e+00 0.00000000e+00\n",
            " 0.00000000e+00 0.00000000e+00 0.00000000e+00 0.00000000e+00\n",
            " 0.00000000e+00 0.00000000e+00 0.00000000e+00 0.00000000e+00\n",
            " 0.00000000e+00 0.00000000e+00 0.00000000e+00] \n",
            "\n"
          ],
          "name": "stdout"
        }
      ]
    },
    {
      "cell_type": "code",
      "metadata": {
        "colab": {
          "base_uri": "https://localhost:8080/",
          "height": 295
        },
        "id": "LhLY2auLaTti",
        "outputId": "4a9413f0-060d-4de5-e4da-263413614c97"
      },
      "source": [
        "# Mean and Varience distribution for quark pt values\n",
        "x_axis_range = [i for i in range(139)]\n",
        "\n",
        "# Plotting the Mean pt points \n",
        "plt.plot(x_axis_range, stats.describe(quark_pt[:][:]).mean, label = \"Mean\")\n",
        "\n",
        "# Plotting the Varience pt points \n",
        "plt.plot(x_axis_range, stats.describe(quark_pt[:][:]).variance, label = \"Varience\")\n",
        "\n",
        "# Naming the x axis as Jet Sample Index\n",
        "plt.xlabel('Jet Sample Index')\n",
        "# Naming the y axis as Dist pt values\n",
        "plt.ylabel('Dist pt values')\n",
        "# Giving a title to the graph\n",
        "plt.title('Mean, Varience Dist of Quark pt values')\n",
        "  \n",
        "# show a legend on the plot\n",
        "plt.legend()\n",
        "  \n",
        "# function to show the plot\n",
        "plt.show()\n"
      ],
      "execution_count": null,
      "outputs": [
        {
          "output_type": "display_data",
          "data": {
            "image/png": "[encoded data removed]",
            "text/plain": [
              "<Figure size 432x288 with 1 Axes>"
            ]
          },
          "metadata": {
            "tags": [],
            "needs_background": "light"
          }
        }
      ]
    },
    {
      "cell_type": "markdown",
      "metadata": {
        "id": "5prkqoCGeV0M"
      },
      "source": [
        "By the above plot it can be concluded that for quark samples in the dataset the pt values after the 70th jet sample are largely around the mean i.e. 0. Before the 70th sample the pt values differ considerably from the mean."
      ]
    },
    {
      "cell_type": "markdown",
      "metadata": {
        "id": "79q9yEKgfHdr"
      },
      "source": [
        "## Quark rapidity distributions"
      ]
    },
    {
      "cell_type": "code",
      "metadata": {
        "id": "E1yrfvV-F4Hs"
      },
      "source": [
        "# Check distribution for quark  rapidity values\n",
        "print(f\"Quark rapidity min array :  {stats.describe(quark_rapidity[:][:]).minmax[0]} \\n\")\n",
        "print(f\"Quark rapidity max array :  {stats.describe(quark_rapidity[:][:]).minmax[1]} \\n\")"
      ],
      "execution_count": null,
      "outputs": []
    },
    {
      "cell_type": "code",
      "metadata": {
        "colab": {
          "base_uri": "https://localhost:8080/",
          "height": 295
        },
        "id": "hdPgCjDXF5Sx",
        "outputId": "7e157440-50fa-4fa5-af39-e2bf2f9c4ce4"
      },
      "source": [
        "# Mean and Varience distribution for quark rapidity values\n",
        "x_axis_range = [i for i in range(139)]\n",
        "\n",
        "# Plotting the Mean rapidity points \n",
        "plt.plot(x_axis_range, stats.describe(quark_rapidity[:][:]).mean, label = \"Mean\")\n",
        "\n",
        "# Plotting the Varience rapidity points \n",
        "plt.plot(x_axis_range, stats.describe(quark_rapidity[:][:]).variance, label = \"Varience\")\n",
        "\n",
        "# Naming the x axis as Jet Sample Index\n",
        "plt.xlabel('Jet Sample Index')\n",
        "# Naming the y axis as Dist rapidity values\n",
        "plt.ylabel('Dist rapidity values')\n",
        "# Giving a title to the graph\n",
        "plt.title('Mean, Varience Dist of Quark rapidity values')\n",
        "  \n",
        "# show a legend on the plot\n",
        "plt.legend()\n",
        "  \n",
        "# function to show the plot\n",
        "plt.show()"
      ],
      "execution_count": null,
      "outputs": [
        {
          "output_type": "display_data",
          "data": {
            "image/png": "[encoded data removed]",
            "text/plain": [
              "<Figure size 432x288 with 1 Axes>"
            ]
          },
          "metadata": {
            "tags": [],
            "needs_background": "light"
          }
        }
      ]
    },
    {
      "cell_type": "markdown",
      "metadata": {
        "id": "WT65Ctdcgv3m"
      },
      "source": [
        "By the above plot it can be concluded that for quark samples in the dataset the rapidity values after the 70th jet sample are largely around the mean i.e. 0. Before the 70th sample the rapidity values decrease almost linearly from 0.8 to 0.0. The varience values of rapidity is less as compared to pt values."
      ]
    },
    {
      "cell_type": "markdown",
      "metadata": {
        "id": "l0VAS8ulhU7J"
      },
      "source": [
        "##Quark Azimuthal Angle distributions"
      ]
    },
    {
      "cell_type": "code",
      "metadata": {
        "id": "bKE9n3jkhhIP"
      },
      "source": [
        "# Check distribution for quark  azim values\n",
        "print(f\"Quark azim min array :  {stats.describe(quark_azim[:][:]).minmax[0]} \\n\")\n",
        "print(f\"Quark azim max array :  {stats.describe(quark_azim[:][:]).minmax[1]} \\n\")"
      ],
      "execution_count": null,
      "outputs": []
    },
    {
      "cell_type": "code",
      "metadata": {
        "colab": {
          "base_uri": "https://localhost:8080/",
          "height": 295
        },
        "id": "wuc9W5k0h1j0",
        "outputId": "2480a6a5-e74d-4714-b775-ba91c57315ce"
      },
      "source": [
        "# Mean and Varience distribution for quark azim values\n",
        "x_axis_range = [i for i in range(139)]\n",
        "\n",
        "# Plotting the Mean azim points \n",
        "plt.plot(x_axis_range, stats.describe(quark_azim[:][:]).mean, label = \"Mean\")\n",
        "\n",
        "# Plotting the Varience azim points \n",
        "plt.plot(x_axis_range, stats.describe(quark_azim[:][:]).variance, label = \"Varience\")\n",
        "\n",
        "# Naming the x axis as Jet Sample Index\n",
        "plt.xlabel('Jet Sample Index')\n",
        "# Naming the y axis as Dist azim values\n",
        "plt.ylabel('Dist azim values')\n",
        "# Giving a title to the graph\n",
        "plt.title('Mean, Varience Dist of Quark azim values')\n",
        "  \n",
        "# show a legend on the plot\n",
        "plt.legend()\n",
        "  \n",
        "# function to show the plot\n",
        "plt.show()"
      ],
      "execution_count": null,
      "outputs": [
        {
          "output_type": "display_data",
          "data": {
            "image/png": "[encoded data removed]",
            "text/plain": [
              "<Figure size 432x288 with 1 Axes>"
            ]
          },
          "metadata": {
            "tags": [],
            "needs_background": "light"
          }
        }
      ]
    },
    {
      "cell_type": "markdown",
      "metadata": {
        "id": "Idwr9oa0iYNx"
      },
      "source": [
        "From the above plot it is evident that the quark samples in the dataset have mean azim values decreasing linearly from 3 to 0 for the first 70 jet samples.For samples after 70 the values have been padded with 0.\n",
        "\n"
      ]
    },
    {
      "cell_type": "markdown",
      "metadata": {
        "id": "_5pEvru2joZk"
      },
      "source": [
        "##Quark pdgid value distributions"
      ]
    },
    {
      "cell_type": "code",
      "metadata": {
        "colab": {
          "base_uri": "https://localhost:8080/"
        },
        "id": "q2SfiVEFF7wI",
        "outputId": "9359dead-9a35-49e1-c908-6bef7c1b7352"
      },
      "source": [
        "# Check distribution for quark  pdgid values\n",
        "print(f\"Quark pdgid min array :  {stats.describe(quark_pdgid[:][:]).minmax[0]} \\n\")\n",
        "print(f\"Quark pdgid max array :  {stats.describe(quark_pdgid[:][:]).minmax[1]} \\n\")"
      ],
      "execution_count": null,
      "outputs": [
        {
          "output_type": "stream",
          "text": [
            "Quark pdgid min array :  [-2212. -2212. -2212. -2212. -2212. -2212. -2212. -2212. -2212. -2212.\n",
            " -2212. -2212. -2212. -2212. -2212. -2212. -2212. -2212. -2212. -2212.\n",
            " -2212. -2212. -2212. -2212. -2212. -2212. -2212. -2212. -2212. -2212.\n",
            " -2212. -2212. -2212. -2212. -2212. -2212. -2212. -2212. -2212. -2212.\n",
            " -2212. -2212. -2212. -2212. -2212. -2212. -2212. -2212. -2212. -2212.\n",
            " -2212. -2212. -2212. -2212. -2212. -2212. -2212. -2212. -2212. -2212.\n",
            " -2212. -2212. -2212. -2212. -2212. -2212. -2212. -2212. -2212. -2212.\n",
            " -2212. -2212. -2212. -2212. -2212. -2212. -2212. -2212. -2212. -2212.\n",
            " -2212. -2212. -2212. -2212. -2212. -2212. -2212. -2212. -2212. -2212.\n",
            " -2212. -2212. -2212. -2112. -2212. -2212. -2212. -2212. -2212. -2112.\n",
            " -2212.  -211.  -321.  -211. -2212.  -211.  -321.     0. -2112.     0.\n",
            "  -211.  -211.  -211.  -211.  -211.     0.     0.     0.     0.     0.\n",
            "     0.     0.     0.     0.     0.     0.     0.     0.     0.     0.\n",
            "     0.     0.     0.     0.     0.     0.     0.     0.     0.] \n",
            "\n",
            "Quark pdgid max array :  [2212. 2212. 2212. 2212. 2212. 2212. 2212. 2212. 2212. 2212. 2212. 2212.\n",
            " 2212. 2212. 2212. 2212. 2212. 2212. 2212. 2212. 2212. 2212. 2212. 2212.\n",
            " 2212. 2212. 2212. 2212. 2212. 2212. 2212. 2212. 2212. 2212. 2212. 2212.\n",
            " 2212. 2212. 2212. 2212. 2212. 2212. 2212. 2212. 2212. 2212. 2212. 2212.\n",
            " 2212. 2212. 2212. 2212. 2212. 2212. 2212. 2212. 2212. 2212. 2212. 2212.\n",
            " 2212. 2212. 2212. 2212. 2212. 2212. 2212. 2212. 2212. 2212. 2212. 2212.\n",
            " 2212. 2212. 2212. 2212. 2212. 2212. 2212. 2212. 2212. 2212. 2112. 2212.\n",
            " 2212. 2212. 2212. 2212. 2112. 2212. 2212. 2212. 2212. 2212. 2212. 2212.\n",
            "  211. 2112. 2112. 2212.  211. 2212. 2112. 2212.  211.  211. 2112.   22.\n",
            "   22.   22.  211.   22.  211.   22.    0.  211.   22.   22.  211.   22.\n",
            "    0.    0.    0.    0.    0.    0.    0.    0.    0.    0.    0.    0.\n",
            "    0.    0.    0.    0.    0.    0.    0.] \n",
            "\n"
          ],
          "name": "stdout"
        }
      ]
    },
    {
      "cell_type": "code",
      "metadata": {
        "colab": {
          "base_uri": "https://localhost:8080/",
          "height": 295
        },
        "id": "Qp_fQeYkb5zD",
        "outputId": "d73cb6a9-4870-4954-ce5b-4c114216e778"
      },
      "source": [
        "# Mean and Varience distribution for quark pdgid values\n",
        "x_axis_range = [i for i in range(139)]\n",
        "\n",
        "# Plotting the Mean pdgid points \n",
        "plt.plot(x_axis_range, stats.describe(quark_pdgid[:][:]).mean, label = \"Mean\")\n",
        "\n",
        "# Plotting the Varience pdgid points \n",
        "plt.plot(x_axis_range, stats.describe(quark_pdgid[:][:]).variance, label = \"Varience\")\n",
        "\n",
        "# Naming the x axis as Jet Sample Index\n",
        "plt.xlabel('Jet Sample Index')\n",
        "# Naming the y axis as Dist pdgid values\n",
        "plt.ylabel('Dist pdgid values')\n",
        "# Giving a title to the graph\n",
        "plt.title('Mean, Varience Dist of Quark pdgid values')\n",
        "  \n",
        "# show a legend on the plot\n",
        "plt.legend()\n",
        "  \n",
        "# function to show the plot\n",
        "plt.show()"
      ],
      "execution_count": null,
      "outputs": [
        {
          "output_type": "display_data",
          "data": {
            "image/png": "[encoded data removed]",
            "text/plain": [
              "<Figure size 432x288 with 1 Axes>"
            ]
          },
          "metadata": {
            "tags": [],
            "needs_background": "light"
          }
        }
      ]
    },
    {
      "cell_type": "markdown",
      "metadata": {
        "id": "wFzYUQ11k2kT"
      },
      "source": [
        "The mean value for pdgid for jet sammples is 0. This indicates that for each quark jet sample with pdgid value 'x' there is a corresponding jet sample with value '-x'. This is also exident from the minmax values of pdgid arrays. The initial jet samples have higher values which decrease linearly upto 70th jet sample after which the values are 0 padded."
      ]
    },
    {
      "cell_type": "markdown",
      "metadata": {
        "id": "wCuK0gRWl39R"
      },
      "source": [
        "From the above Graphs it is clear that the jet samples are padded with 0 values after the 70th jet which indicates that for quark particles the jets can be seen upto 70th index. But with this alone we cannot conclude that the quark particles donot have jet samples after 70th one which are not characteristic to quarks."
      ]
    },
    {
      "cell_type": "markdown",
      "metadata": {
        "id": "TEu9PaQmnTcs"
      },
      "source": [
        "# Gluon Distributions"
      ]
    },
    {
      "cell_type": "markdown",
      "metadata": {
        "id": "71aNhwBxnasi"
      },
      "source": [
        "##Gloun pt values distribution"
      ]
    },
    {
      "cell_type": "code",
      "metadata": {
        "id": "do_HfKOqnasj"
      },
      "source": [
        "# Check distribution for gluon  pt values\n",
        "print(f\"Gluon pt min array :  {stats.describe(gluon_pt[:][:]).minmax[0]} \\n\")\n",
        "print(f\"Gluon pt max array :  {stats.describe(gluon_pt[:][:]).minmax[1]} \\n\")\n"
      ],
      "execution_count": null,
      "outputs": []
    },
    {
      "cell_type": "code",
      "metadata": {
        "colab": {
          "base_uri": "https://localhost:8080/",
          "height": 295
        },
        "id": "s8sIbtvAnasj",
        "outputId": "5d7d4b0a-01f1-48a2-df23-3d54a54701a6"
      },
      "source": [
        "# Mean and Varience distribution for gluon pt values\n",
        "x_axis_range = [i for i in range(139)]\n",
        "\n",
        "# Plotting the Mean pt points \n",
        "plt.plot(x_axis_range, stats.describe(gluon_pt[:][:]).mean, label = \"Mean\")\n",
        "\n",
        "# Plotting the Varience pt points \n",
        "plt.plot(x_axis_range, stats.describe(gluon_pt[:][:]).variance, label = \"Varience\")\n",
        "\n",
        "# Naming the x axis as Jet Sample Index\n",
        "plt.xlabel('Jet Sample Index')\n",
        "# Naming the y axis as Dist pt values\n",
        "plt.ylabel('Dist pt values')\n",
        "# Giving a title to the graph\n",
        "plt.title('Mean, Varience Dist of Gluon pt values')\n",
        "  \n",
        "# show a legend on the plot\n",
        "plt.legend()\n",
        "  \n",
        "# function to show the plot\n",
        "plt.show()\n"
      ],
      "execution_count": null,
      "outputs": [
        {
          "output_type": "display_data",
          "data": {
            "image/png": "[encoded data removed]",
            "text/plain": [
              "<Figure size 432x288 with 1 Axes>"
            ]
          },
          "metadata": {
            "tags": [],
            "needs_background": "light"
          }
        }
      ]
    },
    {
      "cell_type": "markdown",
      "metadata": {
        "id": "Dzny6VQCnask"
      },
      "source": [
        "By the above plot it can be concluded that for gluon samples in the dataset the pt values after the 100thth jet sample are largely around the mean i.e. 0. Before the 70th sample the pt values differ considerably from the mean."
      ]
    },
    {
      "cell_type": "markdown",
      "metadata": {
        "id": "gwQEqYm7onj7"
      },
      "source": [
        "Comparing this 'Gluon pt' plot with the 'Quark pt' plot it can be seen that the pt values for around the 40th sample are the highest for gluons whereas for quarks the varience peaks at the 20th jet samples. The varience values for quarks are almost 4 times that of the gluon samples "
      ]
    },
    {
      "cell_type": "markdown",
      "metadata": {
        "id": "GmXlRbfInask"
      },
      "source": [
        "## Gluon rapidity distributions"
      ]
    },
    {
      "cell_type": "code",
      "metadata": {
        "colab": {
          "base_uri": "https://localhost:8080/"
        },
        "id": "-_Banuk8nask",
        "outputId": "0adb2e8c-6199-43ab-d8e6-adbd2b4c9b01"
      },
      "source": [
        "# Check distribution for gluon  rapidity values\n",
        "print(f\"Gluon rapidity min array :  {stats.describe(gluon_rapidity[:][:]).minmax[0]} \\n\")\n",
        "print(f\"Gluon rapidity max array :  {stats.describe(gluon_rapidity[:][:]).minmax[1]} \\n\")"
      ],
      "execution_count": null,
      "outputs": [
        {
          "output_type": "stream",
          "text": [
            "Gluon rapidity min array :  [-2.08537191 -2.07160088 -2.06329617 -2.05291516 -2.04106746 -2.04361976\n",
            " -2.03542479 -2.04855088 -2.03433588 -2.08936717 -2.03109949 -2.0228475\n",
            " -2.0035103  -2.05306385 -2.00009756 -2.04145788 -2.05289378 -2.04430766\n",
            " -2.06688114 -2.06875731 -2.03800256 -1.97191236 -2.02357275 -2.03983965\n",
            " -2.04731715 -1.95699981 -1.90876456 -1.98130974 -2.02318593 -2.00478661\n",
            " -1.9929288  -1.94749781 -1.96660328 -1.98295175 -1.92271548 -1.94606419\n",
            " -1.95954061 -1.95007182 -1.94308293 -1.92677771 -1.92158121 -2.02297415\n",
            " -1.91848059 -1.92788383 -1.90799507 -1.91829291 -1.90085882 -1.89697\n",
            " -1.89546138 -1.8925586  -1.89037401 -1.85402716 -1.88597127 -1.97325849\n",
            " -1.95452632 -1.87976987 -1.85203986 -1.96303162 -1.95586618 -1.83039355\n",
            " -1.93533733 -1.90823849 -1.92037434 -1.91159642 -1.89551956 -1.89201852\n",
            " -1.89427739 -1.86561954 -1.86209555 -1.81885835 -1.9147273  -1.87289587\n",
            " -1.77707407 -1.76973732 -1.76048999 -1.81684491 -1.76355647 -1.80379206\n",
            " -1.84079202 -1.86626283 -1.86665547 -1.77824195 -1.76292285 -1.84675632\n",
            " -1.82783562 -1.78743557 -1.80792986 -1.81021364 -1.82904829 -1.81914689\n",
            " -1.82346894 -1.79681363 -1.74054242 -1.75306183 -1.76924906 -1.77369725\n",
            " -1.80073369 -1.79098395 -1.75075331 -1.76588152 -1.78748976 -1.781279\n",
            " -1.76696274 -1.77408966 -1.76876832 -1.77269328 -1.66567986 -1.65645509\n",
            " -1.65481744 -1.64160927 -1.56634983 -1.57233767 -1.59162588 -1.58915228\n",
            " -1.59263241 -1.59432189 -1.58581706 -1.59434039 -1.58463261 -1.58179215\n",
            " -1.58546827 -1.43658696 -1.44343204 -1.44365926 -1.39114736 -1.44017883\n",
            " -1.39655442 -1.42338482 -1.41005963 -1.41185895 -1.40731419 -0.55415002\n",
            " -0.53559888 -0.57580732 -0.57338857 -0.55852884 -0.56818824 -0.56136096\n",
            " -0.55040392] \n",
            "\n",
            "Gluon rapidity max array :  [2.09280268 2.14966114 2.07187917 2.05834792 2.10753853 2.09874756\n",
            " 2.0250363  2.01871308 2.03649437 2.02429526 1.98895989 2.00989171\n",
            " 2.00247574 2.06173719 1.98887581 1.99890432 1.98646652 2.09950308\n",
            " 1.96500471 1.94483918 2.05467976 1.98306736 1.94738891 1.97768634\n",
            " 1.9571395  1.95447842 1.92741293 1.93548279 1.94876824 1.97634812\n",
            " 1.93209465 1.93183059 1.90167656 1.92987069 1.97506976 1.89913572\n",
            " 1.96488119 2.09524546 2.09310692 2.04246698 2.10858013 1.90030276\n",
            " 1.93195032 1.92867801 1.85818186 1.97636554 1.85273389 1.87258305\n",
            " 1.98795893 1.89698572 1.92025266 1.99874976 1.92258049 2.20039736\n",
            " 1.98117018 1.962776   2.13394357 1.90738687 1.84365856 1.90714721\n",
            " 2.01008641 1.99138863 1.99883549 1.983958   2.06338078 2.1998413\n",
            " 2.08209396 1.85668784 1.97243834 2.05824939 1.83512442 2.05724949\n",
            " 2.15306876 2.09482042 1.96150501 1.87962159 1.95656874 2.00387511\n",
            " 2.01028283 1.93171156 1.82792787 1.89951654 2.05138061 1.9888773\n",
            " 1.85319734 1.89288979 1.89511475 1.91115947 1.88766573 1.96396834\n",
            " 1.88046852 1.96275654 1.91660729 1.89517032 1.89009226 1.95069954\n",
            " 1.94126684 1.93741271 1.96475677 1.94418615 1.95658167 1.95352894\n",
            " 1.94981077 1.9464077  1.91980328 1.94613951 1.93335899 1.93058982\n",
            " 1.71897795 1.66445313 1.71958124 1.67901542 1.68730018 1.69644904\n",
            " 1.68797631 1.61013494 1.62492987 1.62029993 1.62128461 1.61276899\n",
            " 1.64759834 1.65527352 1.4376975  1.4461486  1.11661009 1.12969928\n",
            " 1.13230088 1.17717527 1.18283635 1.16736619 1.15740122 1.15054712\n",
            " 0.57177303 0.58084069 0.         0.         0.         0.\n",
            " 0.        ] \n",
            "\n"
          ],
          "name": "stdout"
        }
      ]
    },
    {
      "cell_type": "code",
      "metadata": {
        "colab": {
          "base_uri": "https://localhost:8080/",
          "height": 295
        },
        "id": "iIWtIoM6nasl",
        "outputId": "958166fc-dd3d-4c8f-91cb-4f0792ab8365"
      },
      "source": [
        "# Mean and Varience distribution for gluon rapidity values\n",
        "x_axis_range = [i for i in range(139)]\n",
        "\n",
        "# Plotting the Mean rapidity points \n",
        "plt.plot(x_axis_range, stats.describe(gluon_rapidity[:][:]).mean, label = \"Mean\")\n",
        "\n",
        "# Plotting the Varience rapidity points \n",
        "plt.plot(x_axis_range, stats.describe(gluon_rapidity[:][:]).variance, label = \"Varience\")\n",
        "\n",
        "# Naming the x axis as Jet Sample Index\n",
        "plt.xlabel('Jet Sample Index')\n",
        "# Naming the y axis as Dist rapidity values\n",
        "plt.ylabel('Dist rapidity values')\n",
        "# Giving a title to the graph\n",
        "plt.title('Mean, Varience Dist of Gluon rapidity values')\n",
        "  \n",
        "# show a legend on the plot\n",
        "plt.legend()\n",
        "  \n",
        "# function to show the plot\n",
        "plt.show()"
      ],
      "execution_count": null,
      "outputs": [
        {
          "output_type": "display_data",
          "data": {
            "image/png": "[encoded data removed]",
            "text/plain": [
              "<Figure size 432x288 with 1 Axes>"
            ]
          },
          "metadata": {
            "tags": [],
            "needs_background": "light"
          }
        }
      ]
    },
    {
      "cell_type": "markdown",
      "metadata": {
        "id": "5SQOArt1nasl"
      },
      "source": [
        "This graph of varience and mean for gloun jet rapidity values is quite similar to that of quark jet rapidity values however it appears that for gluon samples the varience converges to zero at the 100th jet sample for gluons as compared to 70th for quarks."
      ]
    },
    {
      "cell_type": "markdown",
      "metadata": {
        "id": "iziS_Nphnasl"
      },
      "source": [
        "##Gluon azimuthal angle distributions"
      ]
    },
    {
      "cell_type": "code",
      "metadata": {
        "colab": {
          "base_uri": "https://localhost:8080/"
        },
        "id": "OKWs3fsxnasl",
        "outputId": "88d2caa5-3648-4611-a616-2a2975bf0032"
      },
      "source": [
        "# Check distribution for gluon  azim values\n",
        "print(f\"Gluon azim min array :  {stats.describe(gluon_azim[:][:]).minmax[0]} \\n\")\n",
        "print(f\"Gluon azim max array :  {stats.describe(gluon_azim[:][:]).minmax[1]} \\n\")"
      ],
      "execution_count": null,
      "outputs": [
        {
          "output_type": "stream",
          "text": [
            "Gluon azim min array :  [-0.38873457 -0.38315723 -0.37016806 -0.37301066 -0.34555006 -0.34318704\n",
            " -0.33170686 -0.3354763  -0.32238259 -0.30400853 -0.29037484 -0.29860431\n",
            " -0.30716954 -0.31309633 -0.25074655 -0.34252425 -0.23943351 -0.27792727\n",
            " -0.35498743 -0.35598396 -0.2987766  -0.27149674 -0.30834684 -0.32262965\n",
            " -0.34478944 -0.26918156 -0.41036721 -0.39454798 -0.33723909 -0.33940514\n",
            " -0.33635351 -0.34224343 -0.25095136 -0.2765788  -0.38982974 -0.37687091\n",
            " -0.32807973 -0.18158603 -0.18287922 -0.17490056 -0.18430881 -0.28724104\n",
            " -0.34207045 -0.29020215 -0.21664335 -0.15635404 -0.29308527 -0.1537026\n",
            " -0.14292824 -0.24565232 -0.3595733  -0.32050917 -0.18506711 -0.31098384\n",
            " -0.10948413 -0.1011225  -0.22649839 -0.20162106 -0.1999381  -0.34402163\n",
            " -0.17911672 -0.17191638 -0.23421726 -0.21586489 -0.17469207 -0.33282889\n",
            " -0.23396898 -0.32111501 -0.19796379 -0.19348515 -0.29594308 -0.19169721\n",
            " -0.13563412 -0.25436389 -0.15198969 -0.26185132 -0.19016882 -0.24634293\n",
            " -0.19098677 -0.21549104 -0.19720555 -0.20409123 -0.11460794 -0.10353477\n",
            " -0.08746347 -0.10423039 -0.14677477 -0.15472548 -0.09223173 -0.08506206\n",
            " -0.08197938 -0.09659278 -0.09497328 -0.08910711 -0.06678875 -0.05304543\n",
            " -0.05292497 -0.0522503   0.          0.         -0.03917539 -0.04613799\n",
            "  0.         -0.00571899 -0.01503587 -0.03248224 -0.03023939 -0.00506613\n",
            " -0.01734401 -0.01485074 -0.00605551  0.          0.          0.\n",
            "  0.          0.          0.          0.          0.          0.\n",
            "  0.          0.          0.          0.          0.          0.\n",
            "  0.          0.          0.          0.          0.          0.\n",
            "  0.          0.          0.          0.          0.          0.\n",
            "  0.        ] \n",
            "\n",
            "Gluon azim max array :  [6.67600517 6.69081692 6.65759627 6.64293957 6.6481109  6.64765371\n",
            " 6.60866318 6.65021101 6.6109586  6.5836384  6.61589914 6.57953734\n",
            " 6.58682368 6.58500569 6.62793136 6.58319612 6.56306206 6.53109122\n",
            " 6.57550203 6.53097568 6.54828956 6.60474178 6.51215965 6.61894507\n",
            " 6.60317627 6.55922097 6.59146337 6.55075105 6.58140007 6.54529252\n",
            " 6.56801248 6.65205271 6.54756765 6.71722123 6.65435186 6.49688583\n",
            " 6.63344074 6.59917191 6.59000942 6.53520819 6.53600087 6.51835314\n",
            " 6.47648466 6.5336146  6.60578241 6.47304341 6.50512085 6.49530983\n",
            " 6.51855768 6.45945048 6.4804619  6.50484607 6.51476944 6.45776969\n",
            " 6.49863529 6.49815677 6.50299463 6.52078693 6.4528259  6.44802669\n",
            " 6.514694   6.49531375 6.44770626 6.43886918 6.44498829 6.42180193\n",
            " 6.41656569 6.45647251 6.46359558 6.40575864 6.39452495 6.39651821\n",
            " 6.42801063 6.41826568 6.42552204 6.39343654 6.48708397 6.45876975\n",
            " 6.46026561 6.44218632 6.44276915 6.37185976 6.40316063 6.35299074\n",
            " 6.41133238 6.3634153  6.34406696 6.35393191 6.36141124 6.36747815\n",
            " 6.39820195 6.36131946 6.3780534  6.36437711 6.35985633 6.32820304\n",
            " 6.36797854 6.1835806  6.18977056 6.43520628 6.26885702 6.26942713\n",
            " 6.3869429  6.28511557 6.39284268 6.27988958 6.16227204 6.40213284\n",
            " 6.19187182 6.21838612 6.19125198 6.27025478 6.19522243 6.3758808\n",
            " 6.28387775 6.27101589 6.2300465  6.30175968 6.28827719 6.32787458\n",
            " 6.30142778 6.25086904 6.30242311 6.297331   6.31402367 6.27739959\n",
            " 6.27282913 6.28784789 6.29563006 6.28451317 6.28671936 3.22040736\n",
            " 2.87949648 2.86383295 2.88296048 2.86046512 2.86774882 2.87812032\n",
            " 2.87658072] \n",
            "\n"
          ],
          "name": "stdout"
        }
      ]
    },
    {
      "cell_type": "code",
      "metadata": {
        "colab": {
          "base_uri": "https://localhost:8080/",
          "height": 295
        },
        "id": "Z4FlcV7Bnasm",
        "outputId": "3c3487e4-30ea-47bb-d520-aa6b7f0d9675"
      },
      "source": [
        "# Mean and Varience distribution for gluon azim values\n",
        "x_axis_range = [i for i in range(139)]\n",
        "\n",
        "# Plotting the Mean azim points \n",
        "plt.plot(x_axis_range, stats.describe(gluon_azim[:][:]).mean, label = \"Mean\")\n",
        "\n",
        "# Plotting the Varience azim points \n",
        "plt.plot(x_axis_range, stats.describe(gluon_azim[:][:]).variance, label = \"Varience\")\n",
        "\n",
        "# Naming the x axis as Jet Sample Index\n",
        "plt.xlabel('Jet Sample Index')\n",
        "# Naming the y axis as Dist azim values\n",
        "plt.ylabel('Dist azim values')\n",
        "# Giving a title to the graph\n",
        "plt.title('Mean, Varience Dist of Gluon azim values')\n",
        "  \n",
        "# show a legend on the plot\n",
        "plt.legend()\n",
        "  \n",
        "# function to show the plot\n",
        "plt.show()"
      ],
      "execution_count": null,
      "outputs": [
        {
          "output_type": "display_data",
          "data": {
            "image/png": "[encoded data removed]",
            "text/plain": [
              "<Figure size 432x288 with 1 Axes>"
            ]
          },
          "metadata": {
            "tags": [],
            "needs_background": "light"
          }
        }
      ]
    },
    {
      "cell_type": "markdown",
      "metadata": {
        "id": "ejEzkNGYnasm"
      },
      "source": [
        "A similar trend can be observed in thge case of azimuthal angle values.\n",
        "\n"
      ]
    },
    {
      "cell_type": "markdown",
      "metadata": {
        "id": "x999MrFMnasm"
      },
      "source": [
        "##Gluon pdgid value distributions"
      ]
    },
    {
      "cell_type": "code",
      "metadata": {
        "colab": {
          "base_uri": "https://localhost:8080/"
        },
        "id": "zySQChLNnasm",
        "outputId": "93d2a36d-2042-4128-8875-5b96e2941159"
      },
      "source": [
        "# Check distribution for gluon  pdgid values\n",
        "print(f\"Gluon pdgid min array :  {stats.describe(gluon_pdgid[:][:]).minmax[0]} \\n\")\n",
        "print(f\"Gluon pdgid max array :  {stats.describe(gluon_pdgid[:][:]).minmax[1]} \\n\")"
      ],
      "execution_count": null,
      "outputs": [
        {
          "output_type": "stream",
          "text": [
            "Gluon pdgid min array :  [-2212. -2212. -2212. -2212. -2212. -2212. -2212. -2212. -2212. -2212.\n",
            " -2212. -2212. -2212. -2212. -2212. -2212. -2212. -2212. -2212. -2212.\n",
            " -2212. -2212. -2212. -2212. -2212. -2212. -2212. -2212. -2212. -2212.\n",
            " -2212. -2212. -2212. -2212. -2212. -2212. -2212. -2212. -2212. -2212.\n",
            " -2212. -2212. -2212. -2212. -2212. -2212. -2212. -2212. -2212. -2212.\n",
            " -2212. -2212. -2212. -2212. -2212. -2212. -2212. -2212. -2212. -2212.\n",
            " -2212. -2212. -2212. -2212. -2212. -2212. -2212. -2212. -2212. -2212.\n",
            " -2212. -2212. -2212. -2212. -2212. -2212. -2212. -2212. -2212. -2212.\n",
            " -2212. -2212. -2212. -2212. -2212. -2212. -2212. -2212. -2212. -2212.\n",
            " -2212. -2212. -2212. -2212. -2212. -2212. -2212. -2212. -2212. -2212.\n",
            " -2212. -2212. -2212. -2212. -2212. -2212. -2212. -2212. -2212. -2212.\n",
            " -2212.  -321.  -211. -2112. -2212. -2212. -2112. -2212. -2112. -2212.\n",
            "  -321.  -211.  -211. -2212.  -211. -2112.  -211.  -211.     0.  -211.\n",
            "     0.     0.     0.     0.     0.  -211.     0.     0.     0.] \n",
            "\n",
            "Gluon pdgid max array :  [2212. 2212. 2212. 2212. 2212. 2212. 2212. 2212. 2212. 2212. 2212. 2212.\n",
            " 2212. 2212. 2212. 2212. 2212. 2212. 2212. 2212. 2212. 2212. 2212. 2212.\n",
            " 2212. 2212. 2212. 2212. 2212. 2212. 2212. 2212. 2212. 2212. 2212. 2212.\n",
            " 2212. 2212. 2212. 2212. 2212. 2212. 2212. 2212. 2212. 2212. 2212. 2212.\n",
            " 2212. 2212. 2212. 2212. 2212. 2212. 2212. 2212. 2212. 2212. 2212. 2212.\n",
            " 2212. 2212. 2212. 2212. 2212. 2212. 2212. 2212. 2212. 2212. 2212. 2212.\n",
            " 2212. 2212. 2212. 2212. 2212. 2212. 2212. 2212. 2212. 2212. 2212. 2212.\n",
            " 2212. 2212. 2212. 2212. 2212. 2212. 2212. 2212. 2212. 2212. 2212. 2212.\n",
            " 2212. 2212. 2212. 2212. 2212. 2212. 2212. 2212. 2212. 2212. 2212. 2212.\n",
            " 2212. 2212. 2212. 2112. 2212. 2212. 2112.  211.  321. 2212.  211. 2212.\n",
            "  211. 2112. 2212.  211. 2112.  321.  211.  321.  211. 2212.  211.  211.\n",
            "  211. 2212.   22.    0.   22.   22.   22.] \n",
            "\n"
          ],
          "name": "stdout"
        }
      ]
    },
    {
      "cell_type": "code",
      "metadata": {
        "colab": {
          "base_uri": "https://localhost:8080/",
          "height": 295
        },
        "id": "N-CmUJfjnasn",
        "outputId": "6c92b985-f164-4cf2-bd20-388ae69e3fd2"
      },
      "source": [
        "# Mean and Varience distribution for gluon pdgid values\n",
        "x_axis_range = [i for i in range(139)]\n",
        "\n",
        "# Plotting the Mean pdgid points \n",
        "plt.plot(x_axis_range, stats.describe(gluon_pdgid[:][:]).mean, label = \"Mean\")\n",
        "\n",
        "# Plotting the Varience pdgid points \n",
        "plt.plot(x_axis_range, stats.describe(gluon_pdgid[:][:]).variance, label = \"Varience\")\n",
        "\n",
        "# Naming the x axis as Jet Sample Index\n",
        "plt.xlabel('Jet Sample Index')\n",
        "# Naming the y axis as Dist pdgid values\n",
        "plt.ylabel('Dist pdgid values')\n",
        "# Giving a title to the graph\n",
        "plt.title('Mean, Varience Dist of Gluon pdgid values')\n",
        "  \n",
        "# show a legend on the plot\n",
        "plt.legend()\n",
        "  \n",
        "# function to show the plot\n",
        "plt.show()"
      ],
      "execution_count": null,
      "outputs": [
        {
          "output_type": "display_data",
          "data": {
            "image/png": "[encoded data removed]",
            "text/plain": [
              "<Figure size 432x288 with 1 Axes>"
            ]
          },
          "metadata": {
            "tags": [],
            "needs_background": "light"
          }
        }
      ]
    },
    {
      "cell_type": "markdown",
      "metadata": {
        "id": "4qwxcCniuR8p"
      },
      "source": [
        "A similar trend can be observed for the pdgid values also."
      ]
    },
    {
      "cell_type": "markdown",
      "metadata": {
        "id": "1cbXw3xqu1rc"
      },
      "source": [
        "From the above graph comparisons for quark and gluon samples it appears that the jet samples between the 70th to 100th indices are the differentiating factor while distinguishing these particles."
      ]
    },
    {
      "cell_type": "markdown",
      "metadata": {
        "id": "xCM5U0OkSQUV"
      },
      "source": [
        "#Normalizing the jet arrays for better scaling"
      ]
    },
    {
      "cell_type": "code",
      "metadata": {
        "id": "c4vVTAMBUiaF"
      },
      "source": [
        "X_min = X.min(axis=(0), keepdims=True)\n",
        "X_max = X.max(axis=(0), keepdims=True)\n",
        "\n",
        "X_normalized = ((X - X_min)  / (X_max - X_min))"
      ],
      "execution_count": null,
      "outputs": []
    },
    {
      "cell_type": "markdown",
      "metadata": {
        "id": "fChnAuT_dF2z"
      },
      "source": [
        "From the above plots it is evident that quark and gloun differ in the values for all factors at aroud the 70th to 100th jet samples. However beyond the 100th sample the varience for all features in the jet sample converge to mean value of 0 thus this will not affect the data much after that. "
      ]
    },
    {
      "cell_type": "markdown",
      "metadata": {
        "id": "tLoQiwFwdnsK"
      },
      "source": [
        "In order to preserve this behaviour while reducing the dimensionality of the feature vectors we can multiply each value by (corresponding jet index (Ji) / M) where M is the maximum values of jet samples."
      ]
    },
    {
      "cell_type": "code",
      "metadata": {
        "colab": {
          "base_uri": "https://localhost:8080/"
        },
        "id": "LDsThNo8feI8",
        "outputId": "c0b07276-1db8-4c41-e714-e6eadb4e64af"
      },
      "source": [
        "X_normalizeeeed = np.array([[[1,2,3], [4,5,6]], [[7,8,9], [10,11,12]]])\n",
        "div = [[2/i, 2/i, 2/i] for i in range(1,3)]\n",
        "\n",
        "print(div)\n",
        "\n",
        "X_scaled = np.divide(X_normalizeeeed[:][:][:], div)\n",
        "\n",
        "print(X_scaled[:][:][:], X_scaled[0][:][:])\n",
        "\n",
        "\n",
        "\n",
        "# X_avg = [[mean(i), mean(j)] for i in X_scaled[:][:][0]]"
      ],
      "execution_count": null,
      "outputs": [
        {
          "output_type": "stream",
          "text": [
            "[[2.0, 2.0, 2.0], [1.0, 1.0, 1.0]]\n",
            "[[[ 0.5  1.   1.5]\n",
            "  [ 4.   5.   6. ]]\n",
            "\n",
            " [[ 3.5  4.   4.5]\n",
            "  [10.  11.  12. ]]] [[0.5 1.  1.5]\n",
            " [4.  5.  6. ]]\n"
          ],
          "name": "stdout"
        }
      ]
    },
    {
      "cell_type": "code",
      "metadata": {
        "id": "_wY4tlW1bbH8"
      },
      "source": [
        "X_div = [[139/i, 139/i, 139/i, 139/i] for i in range(1,140)]\n",
        "\n",
        "X_norm_scaled = np.divide(X_normalized, X_div)"
      ],
      "execution_count": null,
      "outputs": []
    },
    {
      "cell_type": "markdown",
      "metadata": {
        "id": "4mjk9KpmmUHm"
      },
      "source": [
        "Due to time constraints I couldn't complete this problem. However I will continue to learn more about this topic and try to complete the task to my best ability.\n",
        "Here is the approach I am thinking of:"
      ]
    },
    {
      "cell_type": "markdown",
      "metadata": {
        "id": "lARSRIynm93w"
      },
      "source": [
        "Construction of Graph from point dataset :\n",
        "Using  Heirarchichal clustering we can classify the particles into different classes according to their similarities in jet samples.\n",
        "Once classified we can construct the graph by connecting the data points which are classified within the lowest level with highest weight and connect them further to higher classified points with lesser weights . i.e. more the similarities between nodes greater the weight of connection.\n",
        "\n",
        "Once the weighted homogenous graph is constructed using the GCN network for node class prediction we can classify the nodes."
      ]
    },
    {
      "cell_type": "code",
      "metadata": {
        "id": "ZvrseTKgkJxc"
      },
      "source": [
        ""
      ],
      "execution_count": null,
      "outputs": []
    }
  ]
}