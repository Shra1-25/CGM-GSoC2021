{
  "nbformat": 4,
  "nbformat_minor": 0,
  "metadata": {
    "colab": {
      "name": "Quark Gluon Classification with b_c.ipynb",
      "provenance": []
    },
    "kernelspec": {
      "name": "python3",
      "display_name": "Python 3"
    },
    "language_info": {
      "name": "python"
    }
  },
  "cells": [
    {
      "cell_type": "code",
      "metadata": {
        "id": "DASHhQvH9uDT"
      },
      "source": [
        "# Imports\n",
        "import energyflow\n",
        "from scipy import stats\n",
        "from sklearn.model_selection import train_test_split"
      ],
      "execution_count": null,
      "outputs": []
    },
    {
      "cell_type": "code",
      "metadata": {
        "colab": {
          "base_uri": "https://localhost:8080/"
        },
        "id": "B-RG07I3IsBo",
        "outputId": "c164990e-b66b-4eee-ab81-25e6dd428baa"
      },
      "source": [
        "# Load Quark and Gluon Data\n",
        "X, y = energyflow.qg_jets.load(num_data=100000, pad=True, ncol=4, generator='pythia',\n",
        "                        with_bc=True, cache_dir='~/.energyflow')"
      ],
      "execution_count": null,
      "outputs": [
        {
          "output_type": "stream",
          "text": [
            "Downloading QG_jets_withbc_0.npz from https://www.dropbox.com/s/hlu497verxb9f4x/QG_jets_withbc_0.npz?dl=1 to /root/.energyflow/datasets\n"
          ],
          "name": "stdout"
        }
      ]
    },
    {
      "cell_type": "code",
      "metadata": {
        "colab": {
          "base_uri": "https://localhost:8080/"
        },
        "id": "ZxAfx5LkI1g8",
        "outputId": "727cb67c-bf55-43df-b266-c4930191af47"
      },
      "source": [
        "# Dataset Dimensions\n",
        "print(f'X dimensions {X.shape}')\n",
        "print(f'y dimensions {y.shape}')"
      ],
      "execution_count": null,
      "outputs": [
        {
          "output_type": "stream",
          "text": [
            "X dimensions (100000, 134, 4)\n",
            "y dimensions (100000,)\n"
          ],
          "name": "stdout"
        }
      ]
    },
    {
      "cell_type": "code",
      "metadata": {
        "colab": {
          "base_uri": "https://localhost:8080/"
        },
        "id": "-jlR6dasI3tY",
        "outputId": "d1c495fb-d76c-4fd5-da81-4680e1458230"
      },
      "source": [
        "# Check distribution for Input values\n",
        "print(f\"First Param:   {stats.describe(stats.describe(X[:][:][0]))} \\n\")\n",
        "print(f\"Second Param:  {stats.describe(stats.describe(X[:][:][1]))} \\n\")\n",
        "print(f\"Third Param:   {stats.describe(stats.describe(X[:][:][2]))} \\n\")\n",
        "print(f\"Fourth Param:  {stats.describe(stats.describe(X[:][:][3]))} \\n\")"
      ],
      "execution_count": null,
      "outputs": [
        {
          "output_type": "stream",
          "text": [
            "First Param:  DescribeResult(nobs=134, minmax=(array([ 0.0000000e+00, -1.3538641e+00, -8.8155663e-02, -2.2120000e+03]), array([7.98959525e+01, 0.00000000e+00, 3.54168435e-01, 2.21200000e+03])), mean=array([ 4.07690646, -0.34512397,  0.04144194,  1.84328358]), variance=array([1.49872895e+02, 2.50955835e-01, 5.53456652e-03, 3.60437547e+05]), skewness=array([ 4.46841141, -0.80509079,  1.83599502, -0.01106463]), kurtosis=array([20.95536436, -1.23599918,  3.21814589, 10.01918759])) \n",
            "\n",
            "Second Param:  DescribeResult(nobs=134, minmax=(array([ 0.0000000e+00, -1.0666893e+00,  0.0000000e+00, -2.1120000e+03]), array([ 200.92795907,    0.        ,    5.5205472 , 2112.        ])), mean=array([ 4.03044755, -0.24516803,  1.62016569, 18.1119403 ]), variance=array([3.65579054e+02, 1.44313598e-01, 6.00242359e+00, 1.74122341e+05]), skewness=array([ 8.69535343, -0.99609829,  0.84400043,  0.84701844]), kurtosis=array([83.66202488, -0.80047526, -1.28500461, 21.71020124])) \n",
            "\n",
            "Third Param:  DescribeResult(nobs=134, minmax=(array([    0.,     0.,     0., -2212.]), array([7.33603164e+01, 1.85838434e+00, 1.96346964e+00, 2.21200000e+03])), mean=array([3.77949328, 0.46077878, 0.44805594, 4.35820896]), variance=array([1.51323092e+02, 5.45032583e-01, 5.14682190e-01, 1.48862938e+05]), skewness=array([4.08585676, 0.98751024, 0.98543613, 0.15030636]), kurtosis=array([16.75531334, -0.98718913, -0.98769176, 28.36011898])) \n",
            "\n",
            "Fourth Param:  DescribeResult(nobs=134, minmax=(array([   0.,    0.,    0., -321.]), array([ 98.37882285,   0.8891475 ,   5.57815563, 321.        ])), mean=array([3.84594359, 0.21798831, 2.04281098, 1.03731343]), variance=array([1.39495285e+02, 8.11461300e-02, 6.63558295e+00, 9.67415649e+03]), skewness=array([ 5.4736895 ,  0.65731137,  0.46199412, -0.17865304]), kurtosis=array([34.89246671, -1.31925802, -1.78297063,  2.57666121])) \n",
            "\n"
          ],
          "name": "stdout"
        }
      ]
    },
    {
      "cell_type": "code",
      "metadata": {
        "colab": {
          "base_uri": "https://localhost:8080/"
        },
        "id": "BN7l7W_UI51j",
        "outputId": "fbecef69-713d-44fc-c6c7-abad48364e3d"
      },
      "source": [
        "# Check distribution of Quark and Gluon Jet samples.\n",
        "stats.describe(y)"
      ],
      "execution_count": null,
      "outputs": [
        {
          "output_type": "execute_result",
          "data": {
            "text/plain": [
              "DescribeResult(nobs=100000, minmax=(0.0, 1.0), mean=0.5, variance=0.25000250002500024, skewness=0.0, kurtosis=-2.0)"
            ]
          },
          "metadata": {
            "tags": []
          },
          "execution_count": 13
        }
      ]
    },
    {
      "cell_type": "code",
      "metadata": {
        "id": "b8ms7jj_I8ST"
      },
      "source": [
        "X_train, X_test, y_train, y_test = train_test_split(X, y, test_size=0.33, random_state=1)"
      ],
      "execution_count": null,
      "outputs": []
    },
    {
      "cell_type": "code",
      "metadata": {
        "colab": {
          "base_uri": "https://localhost:8080/"
        },
        "id": "1YidNrFEI_C_",
        "outputId": "e3c5c545-f9c5-4073-ab68-e85aa2a27328"
      },
      "source": [
        "# Print Dimensions of Train Dataset\n",
        "print(f'X_train dimensions {X_train.shape}')\n",
        "print(f'y_train dimensions {y_train.shape}')\n",
        "\n",
        "# Print Dimensions of Test Dataset\n",
        "print(f'X_test dimensions {X_test.shape}')\n",
        "print(f'y_test dimensions {y_test.shape}')"
      ],
      "execution_count": null,
      "outputs": [
        {
          "output_type": "stream",
          "text": [
            "X_train dimensions (67000, 134, 4)\n",
            "y_train dimensions (67000,)\n",
            "X_test dimensions (33000, 134, 4)\n",
            "y_test dimensions (33000,)\n"
          ],
          "name": "stdout"
        }
      ]
    },
    {
      "cell_type": "code",
      "metadata": {
        "id": "CdKm1xGLJDB-"
      },
      "source": [
        "# Reshape X_train for CNN Layers\n",
        "X_train = X_train.reshape(X_train.shape[0], X_train.shape[1]*X_train.shape[2])\n",
        "\n",
        "# Reshape X_test for CNN Layers\n",
        "X_test = X_test.reshape(X_test.shape[0], X_test.shape[1]*X_test.shape[2])"
      ],
      "execution_count": null,
      "outputs": []
    },
    {
      "cell_type": "code",
      "metadata": {
        "colab": {
          "base_uri": "https://localhost:8080/"
        },
        "id": "wAEBV7mQJGcC",
        "outputId": "cfb1540e-24df-4f1f-9ec2-ec384f86f270"
      },
      "source": [
        "# Print Dimensions of Reshaped Train Dataset\n",
        "print(f'X_train dimensions {X_train.shape}')\n",
        "print(f'y_train dimensions {y_train.shape}')"
      ],
      "execution_count": null,
      "outputs": [
        {
          "output_type": "stream",
          "text": [
            "X_train dimensions (67000, 536)\n",
            "y_train dimensions (67000,)\n"
          ],
          "name": "stdout"
        }
      ]
    },
    {
      "cell_type": "code",
      "metadata": {
        "colab": {
          "base_uri": "https://localhost:8080/"
        },
        "id": "C5DHl6nqJI9c",
        "outputId": "bf4c594c-a0f3-4f85-8bf5-bc105fe884e6"
      },
      "source": [
        "from sklearn.ensemble import RandomForestRegressor\n",
        "from sklearn.datasets import make_regression\n",
        "\n",
        "regressor = RandomForestRegressor(n_estimators=20, random_state=1)\n",
        "regressor.fit(X_train, y_train)"
      ],
      "execution_count": null,
      "outputs": [
        {
          "output_type": "execute_result",
          "data": {
            "text/plain": [
              "RandomForestRegressor(bootstrap=True, ccp_alpha=0.0, criterion='mse',\n",
              "                      max_depth=None, max_features='auto', max_leaf_nodes=None,\n",
              "                      max_samples=None, min_impurity_decrease=0.0,\n",
              "                      min_impurity_split=None, min_samples_leaf=1,\n",
              "                      min_samples_split=2, min_weight_fraction_leaf=0.0,\n",
              "                      n_estimators=20, n_jobs=None, oob_score=False,\n",
              "                      random_state=1, verbose=0, warm_start=False)"
            ]
          },
          "metadata": {
            "tags": []
          },
          "execution_count": 18
        }
      ]
    },
    {
      "cell_type": "code",
      "metadata": {
        "id": "G0VwCVkhJLNC"
      },
      "source": [
        "prediction = regressor.predict(X_test)"
      ],
      "execution_count": null,
      "outputs": []
    },
    {
      "cell_type": "code",
      "metadata": {
        "colab": {
          "base_uri": "https://localhost:8080/"
        },
        "id": "1ky4yQOoJPWp",
        "outputId": "54e9a3a7-f256-4b28-b048-742c812e5e5e"
      },
      "source": [
        "for i in range(0, 33000):\n",
        "  if prediction[i] <= 0.5:\n",
        "    prediction[i] = 0\n",
        "  else:\n",
        "    prediction[i] = 1\n",
        "\n",
        "accurate_pred = 0\n",
        "for i in range(0, 33000):\n",
        "  if prediction[i] == y_test[i]:\n",
        "    accurate_pred += 1\n",
        "\n",
        "print(f\"Random Forest Regressor Accuracy: {(accurate_pred/33000) * 100}\")"
      ],
      "execution_count": null,
      "outputs": [
        {
          "output_type": "stream",
          "text": [
            "Random Forest Regressor Accuracy: 76.95757575757575\n"
          ],
          "name": "stdout"
        }
      ]
    }
  ]
}